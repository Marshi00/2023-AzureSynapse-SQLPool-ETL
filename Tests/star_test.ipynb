{
 "cells": [
  {
   "cell_type": "code",
   "execution_count": null,
   "outputs": [],
   "source": [
    "import psycopg2"
   ],
   "metadata": {
    "collapsed": false,
    "pycharm": {
     "name": "#%%\n"
    }
   }
  },
  {
   "cell_type": "code",
   "execution_count": null,
   "outputs": [],
   "source": [
    "%load_ext sql"
   ],
   "metadata": {
    "collapsed": false,
    "pycharm": {
     "name": "#%%\n"
    }
   }
  },
  {
   "cell_type": "code",
   "execution_count": null,
   "outputs": [],
   "source": [
    "DB_ENDPOINT = \"localhost\"\n",
    "DEFAULT_DB = 'postgres'\n",
    "DB = 'csv_etl'\n",
    "DB_USER = 'postgres'\n",
    "DB_PASSWORD = '1234'\n",
    "DB_PORT = '5432'"
   ],
   "metadata": {
    "collapsed": false,
    "pycharm": {
     "name": "#%%\n"
    }
   }
  },
  {
   "cell_type": "code",
   "execution_count": null,
   "outputs": [],
   "source": [
    "try:\n",
    "    conn = psycopg2.connect(\n",
    "        host=DB_ENDPOINT,\n",
    "        port=DB_PORT,\n",
    "        dbname=DEFAULT_DB,\n",
    "        user=DB_USER,\n",
    "        password=DB_PASSWORD)\n",
    "    print(\"Connection established\")\n",
    "    conn.set_session(autocommit=True)\n",
    "    print(\"Connection is in Auto Commit\")\n",
    "except psycopg2.Error as e:\n",
    "    print(\"Error: Could not make connection to the Default Postgres database\")\n",
    "    print(e)"
   ],
   "metadata": {
    "collapsed": false,
    "pycharm": {
     "name": "#%%\n"
    }
   }
  },
  {
   "cell_type": "code",
   "execution_count": null,
   "outputs": [],
   "source": [
    "%sql $conn_string"
   ],
   "metadata": {
    "collapsed": false,
    "pycharm": {
     "name": "#%%\n"
    }
   }
  },
  {
   "cell_type": "code",
   "execution_count": null,
   "outputs": [],
   "source": [
    "%%sql\n",
    "CREATE TABLE IF NOT EXISTS dimRiders\n",
    "(\n",
    "    rider_key            INT PRIMARY KEY,\n",
    "    first_name           VARCHAR(50) NOT NULL,\n",
    "    last_name            VARCHAR(50) NOT NULL,\n",
    "    address              VARCHAR(100) NOT NULL,\n",
    "    birthday             DATE NOT NULL,\n",
    "    account_start_date   DATE NOT NULL,\n",
    "    account_end_date     DATE,\n",
    "    is_member            BOOLEAN\n",
    ");"
   ],
   "metadata": {
    "collapsed": false,
    "pycharm": {
     "name": "#%%\n"
    }
   }
  },
  {
   "cell_type": "code",
   "execution_count": null,
   "outputs": [],
   "source": [
    "%%sql\n",
    "CREATE TABLE IF NOT EXISTS dimStation\n",
    "(\n",
    "    station_key          VARCHAR(50) PRIMARY KEY,\n",
    "    station_name         VARCHAR(75) NOT NULL,\n",
    "    latitude             FLOAT NOT NULL,\n",
    "    longitude            FLOAT NOT NULL\n",
    ");"
   ],
   "metadata": {
    "collapsed": false,
    "pycharm": {
     "name": "#%%\n"
    }
   }
  },
  {
   "cell_type": "code",
   "execution_count": null,
   "outputs": [],
   "source": [
    "%%sql\n",
    "CREATE TABLE IF NOT EXISTS FactTime\n",
    "(\n",
    "    trip_key             VARCHAR(50) PRIMARY KEY,\n",
    "    rideable_type        VARCHAR(75) NOT NULL,\n",
    "    start_date_id        INT NOT NULL REFERENCES dimDate(date_key),\n",
    "    ended_date_id        INT NOT NULL REFERENCES dimDate(date_key),\n",
    "    start_station_id     VARCHAR(50) NOT NULL REFERENCES dimStation(station_key),\n",
    "    end_station_id       VARCHAR(50) NOT NULL REFERENCES dimStation(station_key),\n",
    "    rider_id             INT REFERENCES dimRiders(date_key),\n",
    ");"
   ],
   "metadata": {
    "collapsed": false,
    "pycharm": {
     "name": "#%%\n"
    }
   }
  },
  {
   "cell_type": "code",
   "execution_count": null,
   "outputs": [],
   "source": [
    "%%sql\n",
    "CREATE TABLE IF NOT EXISTS dimDatePayment\n",
    "(\n",
    "    date_key            SERIAL PRIMARY KEY,\n",
    "    date                DATE,\n",
    "    year                SMALLINT,\n",
    "    quarter             SMALLINT,\n",
    "    month               SMALLINT,\n",
    "    day                 SMALLINT,\n",
    "    week                SMALLINT,\n",
    "    hour                SMALLINT,\n",
    "    min                 SMALLINT,\n",
    "    is_weekend          BOOLEAN,\n",
    "    payment_id          INT\n",
    ");"
   ],
   "metadata": {
    "collapsed": false,
    "pycharm": {
     "name": "#%%\n"
    }
   }
  },
  {
   "cell_type": "code",
   "execution_count": null,
   "outputs": [],
   "source": [
    "%%sql\n",
    "CREATE TABLE IF NOT EXISTS dimDateTrip\n",
    "(\n",
    "    date_key            SERIAL PRIMARY KEY,\n",
    "    date                DATE,\n",
    "    year                SMALLINT,\n",
    "    quarter             SMALLINT,\n",
    "    month               SMALLINT,\n",
    "    day                 SMALLINT,\n",
    "    week                SMALLINT,\n",
    "    hour                SMALLINT,\n",
    "    min                 SMALLINT,\n",
    "    is_weekend          BOOLEAN,\n",
    "    trip_id             VARCHAR(50)\n",
    ");"
   ],
   "metadata": {
    "collapsed": false,
    "pycharm": {
     "name": "#%%\n"
    }
   }
  },
  {
   "cell_type": "code",
   "execution_count": null,
   "outputs": [],
   "source": [
    "%%sql\n",
    "CREATE TABLE IF NOT EXISTS FactMoney\n",
    "(\n",
    "    payment_id           INT PRIMARY KEY,\n",
    "    date_id              INT NOT NULL REFERENCES dimDate(date_key),\n",
    "    rider_id             INT REFERENCES dimRiders(date_key),\n",
    "    amount               MONEY\n",
    ");"
   ],
   "metadata": {
    "collapsed": false,
    "pycharm": {
     "name": "#%%\n"
    }
   }
  },
  {
   "cell_type": "code",
   "execution_count": null,
   "outputs": [],
   "source": [
    "%%sql\n",
    "INSERT INTO dimDatePayment (date_key, date, year, quarter, month, day, week, hour, min, is_weekend)\n",
    "SELECT payment_id                                           AS payment_id\n",
    "       DATETIME(date)                                       AS date,\n",
    "       EXTRACT(year FROM date)                              AS year,\n",
    "       EXTRACT(quarter FROM date)                           AS quarter,\n",
    "       EXTRACT(month FROM date)                             AS month,\n",
    "       EXTRACT(day FROM date)                               AS day,\n",
    "       EXTRACT(week FROM date)                              AS week,\n",
    "       EXTRACT(hour FROM date)                              AS hour,\n",
    "       EXTRACT(minute FROM date)                            AS min,\n",
    "       CASE WHEN EXTRACT(ISODOW FROM date) IN (6, 7) THEN true ELSE false END AS is_weekend\n",
    "FROM payment;"
   ],
   "metadata": {
    "collapsed": false,
    "pycharm": {
     "name": "#%%\n"
    }
   }
  },
  {
   "cell_type": "code",
   "execution_count": null,
   "outputs": [],
   "source": [
    "%%sql\n",
    "INSERT INTO dimDateTrip (date, year, quarter, month, day, week, hour, min, is_weekend)\n",
    "SELECT trip_id                                                  AS trip_id,\n",
    "       DATETIME(start_at)                                       AS date,\n",
    "       EXTRACT(year FROM start_at)                              AS year,\n",
    "       EXTRACT(quarter FROM start_at)                           AS quarter,\n",
    "       EXTRACT(month FROM start_at)                             AS month,\n",
    "       EXTRACT(day FROM start_at)                               AS day,\n",
    "       EXTRACT(week FROM start_at)                              AS week,\n",
    "       EXTRACT(hour FROM start_at)                              AS hour,\n",
    "       EXTRACT(minute FROM start_at)                            AS min,\n",
    "       CASE WHEN EXTRACT(ISODOW FROM start_at) IN (6, 7) THEN true ELSE false END AS is_weekend\n",
    "FROM trip;"
   ],
   "metadata": {
    "collapsed": false,
    "pycharm": {
     "name": "#%%\n"
    }
   }
  },
  {
   "cell_type": "code",
   "execution_count": null,
   "outputs": [],
   "source": [
    "%%sql\n",
    "INSERT INTO dimDateTrip (date_key, date, year, quarter, month, day, week, hour, min, is_weekend)\n",
    "SELECT trip_id                                                  AS trip_id,\n",
    "       DATETIME(ended_at)                                       AS date,\n",
    "       EXTRACT(year FROM ended_at)                              AS year,\n",
    "       EXTRACT(quarter FROM ended_at)                           AS quarter,\n",
    "       EXTRACT(month FROM ended_at)                             AS month,\n",
    "       EXTRACT(day FROM ended_at)                               AS day,\n",
    "       EXTRACT(week FROM ended_at)                              AS week,\n",
    "       EXTRACT(hour FROM ended_at)                              AS hour,\n",
    "       EXTRACT(minute FROM ended_at)                            AS min,\n",
    "       CASE WHEN EXTRACT(ISODOW FROM ended_at) IN (6, 7) THEN true ELSE false END AS is_weekend\n",
    "FROM trip;"
   ],
   "metadata": {
    "collapsed": false,
    "pycharm": {
     "name": "#%%\n"
    }
   }
  },
  {
   "cell_type": "code",
   "execution_count": null,
   "outputs": [],
   "source": [
    "%%sql\n",
    "INSERT INTO dimRiders (rider_key, first_name, last_name, address, birthday, account_start_date, account_end_date, is_member)\n",
    "SELECT rider_id                                       AS rider_key,\n",
    "       first                                          AS first_name,\n",
    "       last                                           AS last_name,\n",
    "       address                                        AS address,\n",
    "       birthday                                       AS birthday,\n",
    "       account_start_date                             AS account_start_date,\n",
    "       account_end_date                               AS account_end_date,\n",
    "       is_member                                      AS is_member\n",
    "FROM riders;"
   ],
   "metadata": {
    "collapsed": false,
    "pycharm": {
     "name": "#%%\n"
    }
   }
  },
  {
   "cell_type": "code",
   "execution_count": null,
   "outputs": [],
   "source": [
    "%%sql\n",
    "INSERT INTO dimStation (station_key, station_name, latitude, longitude)\n",
    "SELECT station_id                                     AS station_key,\n",
    "       name                                           AS station_name,\n",
    "       latitude                                       AS latitude,\n",
    "       longitude                                      AS longitude\n",
    "FROM station;"
   ],
   "metadata": {
    "collapsed": false,
    "pycharm": {
     "name": "#%%\n"
    }
   }
  },
  {
   "cell_type": "code",
   "execution_count": null,
   "outputs": [],
   "source": [
    "%%sql\n",
    "INSERT INTO FactMoney (payment_id, date_id, rider_id, amount)\n",
    "SELECT p.payment_id                                         AS payment_id,\n",
    "       d.date_key                                           AS date_id,\n",
    "       p.rider_id                                           AS rider_id,\n",
    "       p.amount                                             AS amount\n",
    "FROM payment p\n",
    "JOIN dimDatePayment d ON ( p.payment_id = d.payment_id );"
   ],
   "metadata": {
    "collapsed": false,
    "pycharm": {
     "name": "#%%\n"
    }
   }
  },
  {
   "cell_type": "code",
   "execution_count": null,
   "outputs": [],
   "source": [
    "%%sql\n",
    "INSERT INTO FactTime (trip_key, rideable_type, start_date_id, ended_date_id, start_station_id, end_station_id, rider_id)\n",
    "SELECT t.trip_id                                            AS trip_key,\n",
    "       t.rideable_type                                      AS rideable_type\n",
    "       ds.date_key                                          AS start_date_id,\n",
    "       de.date_key                                          AS ended_date_id,\n",
    "       t.start_station_id                                   AS start_station_id,\n",
    "       t.end_station_id                                     AS end_station_id,\n",
    "       t.rider_id                                           AS rider_id\n",
    "FROM trip t\n",
    "JOIN dimDateTrip ds ON ( ds.trip_id = t.trip_id ) AND  ( ds.date = DATETIME(t.start_at) )\n",
    "JOIN dimDateTrip de ON ( de.trip_id = t.trip_id ) AND  ( de.date = DATETIME(t.ended_at) )"
   ],
   "metadata": {
    "collapsed": false,
    "pycharm": {
     "name": "#%%\n"
    }
   }
  },
  {
   "cell_type": "code",
   "execution_count": null,
   "outputs": [],
   "source": [],
   "metadata": {
    "collapsed": false,
    "pycharm": {
     "name": "#%%\n"
    }
   }
  },
  {
   "cell_type": "markdown",
   "source": [],
   "metadata": {
    "collapsed": false,
    "pycharm": {
     "name": "#%% md\n"
    }
   }
  }
 ],
 "metadata": {
  "kernelspec": {
   "display_name": "Python 3",
   "language": "python",
   "name": "python3"
  },
  "language_info": {
   "codemirror_mode": {
    "name": "ipython",
    "version": 2
   },
   "file_extension": ".py",
   "mimetype": "text/x-python",
   "name": "python",
   "nbconvert_exporter": "python",
   "pygments_lexer": "ipython2",
   "version": "2.7.6"
  }
 },
 "nbformat": 4,
 "nbformat_minor": 0
}