{
 "cells": [
  {
   "cell_type": "markdown",
   "metadata": {
    "pycharm": {
     "name": "#%% md\n"
    }
   },
   "source": [
    "# Import Python Packages"
   ]
  },
  {
   "cell_type": "code",
   "execution_count": 1,
   "metadata": {
    "pycharm": {
     "name": "#%%\n"
    }
   },
   "outputs": [],
   "source": [
    "# Import Python packages\n",
    "import pandas as pd\n",
    "import psycopg2"
   ]
  },
  {
   "cell_type": "markdown",
   "metadata": {
    "pycharm": {
     "name": "#%% md\n"
    }
   },
   "source": [
    "## DB Params"
   ]
  },
  {
   "cell_type": "code",
   "execution_count": 2,
   "metadata": {
    "pycharm": {
     "name": "#%%\n"
    }
   },
   "outputs": [],
   "source": [
    "DB_ENDPOINT = \"csvtoazurepostgres.postgres.database.azure.com\"\n",
    "DEFAULT_DB = 'postgres'\n",
    "DB = 'csv_etl'\n",
    "DB_USER = 'tempUser_accident_data_ETL'\n",
    "DB_PASSWORD = 'A7.Kr2phuVjagj3'\n",
    "DB_PORT = '5432'"
   ]
  },
  {
   "cell_type": "code",
   "execution_count": null,
   "metadata": {
    "pycharm": {
     "name": "#%%\n"
    }
   },
   "outputs": [],
   "source": [
    "try:\n",
    "    conn = psycopg2.connect(\n",
    "        host=DB_ENDPOINT,\n",
    "        port=DB_PORT,\n",
    "        dbname=DB,\n",
    "        user=DB_USER,\n",
    "        password=DB_PASSWORD)\n",
    "    print(\"Connection established\")\n",
    "    conn.set_session(autocommit=True)\n",
    "    print(\"Connection is in Auto Commit\")\n",
    "except psycopg2.Error as e:\n",
    "    print(f\"Error: Could not make connection to the {DB} database\")\n",
    "    print(e)\n",
    "\n",
    "try:\n",
    "    cursor = conn.cursor()\n",
    "except psycopg2.Error as e:\n",
    "    print(\"Error: Could not get cursor to the Database\")\n",
    "    print(e)"
   ]
  },
  {
   "cell_type": "code",
   "execution_count": null,
   "metadata": {
    "pycharm": {
     "name": "#%%\n"
    }
   },
   "outputs": [],
   "source": [
    "cursor.execute(\"SELECT * FROM %s;\" % 'riders')\n",
    "\n",
    "the_data = cursor.fetchall()\n",
    "\n",
    "colnames = [desc[0] for desc in cursor.description]\n",
    "\n",
    "the_frame = pd.DataFrame(the_data)\n",
    "the_frame.columns = colnames\n",
    "cursor.close()\n",
    "conn.close()"
   ]
  },
  {
   "cell_type": "code",
   "execution_count": null,
   "metadata": {
    "pycharm": {
     "name": "#%%\n"
    }
   },
   "outputs": [],
   "source": [
    "import pandas as pd\n",
    "import sqlalchemy as sq\n",
    "\n",
    "engine = sq.create_engine(f\"postgresql+psycopg2://{DB_USER}:{DB_PASSWORD}@{DB_ENDPOINT}:{DB_PORT}/{DB}\")\n",
    "the_frame = pd.read_sql_table('riders', engine)"
   ]
  },
  {
   "cell_type": "code",
   "execution_count": null,
   "outputs": [],
   "source": [
    "insp = sq.inspect(engine)\n",
    "insp.get_columns(table_name='riders')\n",
    "insp.get_table_names()"
   ],
   "metadata": {
    "collapsed": false,
    "pycharm": {
     "name": "#%%\n"
    }
   }
  },
  {
   "cell_type": "code",
   "execution_count": null,
   "outputs": [],
   "source": [
    "print(the_frame.info())"
   ],
   "metadata": {
    "collapsed": false,
    "pycharm": {
     "name": "#%%\n"
    }
   }
  }
 ],
 "metadata": {
  "kernelspec": {
   "display_name": "Python 3 (ipykernel)",
   "language": "python",
   "name": "python3"
  },
  "language_info": {
   "codemirror_mode": {
    "name": "ipython",
    "version": 3
   },
   "file_extension": ".py",
   "mimetype": "text/x-python",
   "name": "python",
   "nbconvert_exporter": "python",
   "pygments_lexer": "ipython3",
   "version": "3.9.12"
  }
 },
 "nbformat": 4,
 "nbformat_minor": 1
}