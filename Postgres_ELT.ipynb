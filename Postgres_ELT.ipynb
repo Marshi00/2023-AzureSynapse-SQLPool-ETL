{
 "cells": [
  {
   "cell_type": "markdown",
   "id": "0ee54728-570d-47bf-9bad-060f422e5a43",
   "metadata": {},
   "source": [
    "# Import Python Packages"
   ]
  },
  {
   "cell_type": "markdown",
   "id": "06b57eb0-3bbb-4cd5-8d70-7babab677d96",
   "metadata": {},
   "source": [
    "# Import Python packages \n",
    "import datetime\n",
    "import pandas as pd\n",
    "import os\n",
    "import glob\n",
    "import psycopg2"
   ]
  },
  {
   "cell_type": "markdown",
   "id": "e4b84a7f-bb82-43b5-a17e-aac71bbc8aa1",
   "metadata": {
    "tags": []
   },
   "source": [
    "# Connection Set up "
   ]
  },
  {
   "cell_type": "markdown",
   "id": "6e09458b-8e89-443b-b31c-522bd2a5bd11",
   "metadata": {},
   "source": [
    "## DB Params"
   ]
  },
  {
   "cell_type": "code",
   "execution_count": null,
   "id": "964a8fe7-1484-4db7-b454-a59379893323",
   "metadata": {},
   "outputs": [],
   "source": [
    "DB_ENDPOINT = \"\"\n",
    "DEFAULT_DB = 'postgres'\n",
    "DB = ''\n",
    "DB_USER = ''\n",
    "DB_PASSWORD = ''\n",
    "DB_PORT = '5432'"
   ]
  },
  {
   "cell_type": "markdown",
   "id": "ea14654f-e8c3-46ec-a390-f71668b29b5e",
   "metadata": {},
   "source": [
    "## Create a connection to Default Database"
   ]
  },
  {
   "cell_type": "code",
   "execution_count": null,
   "id": "9c83fb26-6adc-432b-b6bc-293e4fb8193f",
   "metadata": {},
   "outputs": [],
   "source": [
    "try: \n",
    "    conn = psycopg2.connect(\n",
    "                        host=DB_ENDPOINT,\n",
    "                        port=DB_PORT,\n",
    "                        dbname=DEFAULT_DB,\n",
    "                        user=DB_USER,\n",
    "                        password=DB_PASSWORD)\n",
    "    print(\"Connection established\")\n",
    "    conn.set_session(autocommit=True)\n",
    "    Print(\"Connection is in Auto Commit\")\n",
    "except psycopg2.Error as e: \n",
    "    print(\"Error: Could not make connection to the Default Postgres database\")\n",
    "    print(e)"
   ]
  },
  {
   "cell_type": "markdown",
   "id": "f8475747-a204-491a-8aea-d36d1128a759",
   "metadata": {},
   "source": [
    "## Create Cursor"
   ]
  },
  {
   "cell_type": "code",
   "execution_count": null,
   "id": "f98c490d-4fb2-4dea-85bd-5fe9a08d3be2",
   "metadata": {},
   "outputs": [],
   "source": [
    "try: \n",
    "    cursor = conn.cursor()\n",
    "except psycopg2.Error as e: \n",
    "    print(\"Error: Could not get cursor to the Database\")\n",
    "    print(e)"
   ]
  },
  {
   "cell_type": "markdown",
   "id": "0a95d29f-a019-4dcf-94b3-6d7f965a7390",
   "metadata": {},
   "source": [
    "## Create New DB and reset connection "
   ]
  },
  {
   "cell_type": "code",
   "execution_count": null,
   "id": "e287d97c-0f18-4544-8843-dfcc2f355d5e",
   "metadata": {},
   "outputs": [],
   "source": [
    "query = \"DROP DATABASE IF EXISTS %s\"\n",
    "try: \n",
    "    cursor.execute(query, (DB))\n",
    "    query = \"CREATE DATABASE %s\"\n",
    "    cursor.execute(query, (DB))\n",
    "except psycopg2.Error as e: \n",
    "    print(\"Error: Issue creating DataBase\")\n",
    "    print (e)"
   ]
  },
  {
   "cell_type": "markdown",
   "id": "4d39d060-027e-4ba7-85e2-99a9492aef7a",
   "metadata": {},
   "source": [
    "### Reset connection to the Desired DB"
   ]
  },
  {
   "cell_type": "code",
   "execution_count": null,
   "id": "c4b26887-f8a1-458f-b9e5-1c83355e95a6",
   "metadata": {},
   "outputs": [],
   "source": [
    "cursor.close()\n",
    "conn.close()\n",
    "try: \n",
    "    conn = psycopg2.connect(\n",
    "                        host=DB_ENDPOINT,\n",
    "                        port=DB_PORT,\n",
    "                        dbname=DB,\n",
    "                        user=DB_USER,\n",
    "                        password=DB_PASSWORD)\n",
    "    print(\"Connection established\")\n",
    "    conn.set_session(autocommit=True)\n",
    "    Print(\"Connection is in Auto Commit\")\n",
    "except psycopg2.Error as e: \n",
    "    print(f\"Error: Could not make connection to the {DB} database\")\n",
    "    print(e)"
   ]
  },
  {
   "cell_type": "markdown",
   "id": "f680a73d-4791-416b-b423-57512d1b92d7",
   "metadata": {},
   "source": [
    "# Populating Cleaned Data "
   ]
  },
  {
   "cell_type": "markdown",
   "id": "33ecf976-6b1b-490d-8fa6-9ff67df7db2e",
   "metadata": {},
   "source": [
    "## Automation Functions"
   ]
  },
  {
   "cell_type": "code",
   "execution_count": null,
   "id": "388a63d2-2878-4172-8561-1b042c55bf25",
   "metadata": {},
   "outputs": [],
   "source": [
    "# Helper functions\n",
    "def table_recreate(cursor, tableName: str, tableFields: str ):\n",
    "     \"\"\" Takes the Connection , Table name and create Fields, will drop the table if exists and create it again with the desired fields Ex : table_recreate(cursor, payments, \"(sessionId INT,\n",
    "                    itemInSession INT,\n",
    "                    artist TEXT,\n",
    "                    song TEXT,\n",
    "                    length FLOAT, \n",
    "                    PRIMARY KEY (sessionId, itemInSession))\")  \"\"\"\n",
    "    try:\n",
    "        \n",
    "        cursor.execute(\"DROP TABLE IF EXISTS {0};\".format(tableName))\n",
    "        query = f\"CREATE TABLE IF NOT EXISTS {tableName} \"\n",
    "        query = query + tableFields\n",
    "        cursor.execute(query)\n",
    "        print(\"Finished creating table {0}\".format(tableName))\n",
    "    except psycopg2.Error as e: \n",
    "    print(f\"Error: Couldn't recreate the table: {tableName}, something went wrong\")\n",
    "    print(e)\n",
    "\n",
    "def populate_table(c, filename, tablename):\n",
    "    f = open(filename, 'r')\n",
    "    try:\n",
    "        cursor.copy_from(f, tablename, sep=\",\", null = \"\")\n",
    "        conn.commit()\n",
    "    except (Exception, psycopg2.DatabaseError) as error:\n",
    "        print(\"Error: %s\" % error)\n",
    "        conn.rollback()\n",
    "        cursor.close()\n",
    "    print(\"Finished populating {0}\".format(tablename))\n",
    "    def generate_header(signal_header_dict: dict) -> pandas.DataFrame:\n",
    "    \"\"\" Takes the header_attributes associated with The signal and Return a Pandas Data Frame with the format\n",
    "        of { key : [value],} for the appropriate  Signal\"\"\"\n",
    "\n",
    "    header_dict = {key: [value] for (key, value) in signal_header_dict.items()}\n",
    "    return pandas.DataFrame(header_dict)\n"
   ]
  }
 ],
 "metadata": {
  "kernelspec": {
   "display_name": "Python 3 (ipykernel)",
   "language": "python",
   "name": "python3"
  },
  "language_info": {
   "codemirror_mode": {
    "name": "ipython",
    "version": 3
   },
   "file_extension": ".py",
   "mimetype": "text/x-python",
   "name": "python",
   "nbconvert_exporter": "python",
   "pygments_lexer": "ipython3",
   "version": "3.10.5"
  }
 },
 "nbformat": 4,
 "nbformat_minor": 5
}
