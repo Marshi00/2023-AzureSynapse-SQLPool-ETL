{
 "cells": [
  {
   "cell_type": "markdown",
   "id": "0ee54728-570d-47bf-9bad-060f422e5a43",
   "metadata": {
    "jp-MarkdownHeadingCollapsed": true,
    "tags": []
   },
   "source": [
    "# Import Python Packages"
   ]
  },
  {
   "cell_type": "code",
   "execution_count": null,
   "id": "847d57d9-5c53-4184-b603-8892d0cb95f1",
   "metadata": {
    "tags": []
   },
   "outputs": [],
   "source": [
    "# Import Python packages \n",
    "import datetime\n",
    "import pandas as pd\n",
    "import os\n",
    "import glob\n",
    "import psycopg2"
   ]
  },
  {
   "cell_type": "markdown",
   "id": "e4b84a7f-bb82-43b5-a17e-aac71bbc8aa1",
   "metadata": {
    "tags": []
   },
   "source": [
    "# Connection Set up "
   ]
  },
  {
   "cell_type": "markdown",
   "id": "6e09458b-8e89-443b-b31c-522bd2a5bd11",
   "metadata": {},
   "source": [
    "## DB Params"
   ]
  },
  {
   "cell_type": "code",
   "execution_count": null,
   "id": "964a8fe7-1484-4db7-b454-a59379893323",
   "metadata": {},
   "outputs": [],
   "source": [
    "DB_ENDPOINT = \"\"\n",
    "DEFAULT_DB = 'postgres'\n",
    "DB = ''\n",
    "DB_USER = ''\n",
    "DB_PASSWORD = ''\n",
    "DB_PORT = '5432'"
   ]
  },
  {
   "cell_type": "markdown",
   "id": "ea14654f-e8c3-46ec-a390-f71668b29b5e",
   "metadata": {},
   "source": [
    "## Create a connection to Default Database"
   ]
  },
  {
   "cell_type": "code",
   "execution_count": null,
   "id": "9c83fb26-6adc-432b-b6bc-293e4fb8193f",
   "metadata": {},
   "outputs": [],
   "source": [
    "try: \n",
    "    conn = psycopg2.connect(\n",
    "                        host=DB_ENDPOINT,\n",
    "                        port=DB_PORT,\n",
    "                        dbname=DEFAULT_DB,\n",
    "                        user=DB_USER,\n",
    "                        password=DB_PASSWORD)\n",
    "    print(\"Connection established\")\n",
    "    conn.set_session(autocommit=True)\n",
    "    Print(\"Connection is in Auto Commit\")\n",
    "except psycopg2.Error as e: \n",
    "    print(\"Error: Could not make connection to the Default Postgres database\")\n",
    "    print(e)"
   ]
  },
  {
   "cell_type": "markdown",
   "id": "f8475747-a204-491a-8aea-d36d1128a759",
   "metadata": {},
   "source": [
    "## Create Cursor"
   ]
  },
  {
   "cell_type": "code",
   "execution_count": null,
   "id": "f98c490d-4fb2-4dea-85bd-5fe9a08d3be2",
   "metadata": {},
   "outputs": [],
   "source": [
    "try: \n",
    "    cursor = conn.cursor()\n",
    "except psycopg2.Error as e: \n",
    "    print(\"Error: Could not get cursor to the Database\")\n",
    "    print(e)"
   ]
  },
  {
   "cell_type": "markdown",
   "id": "0a95d29f-a019-4dcf-94b3-6d7f965a7390",
   "metadata": {},
   "source": [
    "## Create New DB and reset connection "
   ]
  },
  {
   "cell_type": "code",
   "execution_count": null,
   "id": "e287d97c-0f18-4544-8843-dfcc2f355d5e",
   "metadata": {},
   "outputs": [],
   "source": [
    "query = \"DROP DATABASE IF EXISTS %s\"\n",
    "try: \n",
    "    cursor.execute(query, (DB))\n",
    "    query = \"CREATE DATABASE %s\"\n",
    "    cursor.execute(query, (DB))\n",
    "except psycopg2.Error as e: \n",
    "    print(\"Error: Issue creating DataBase\")\n",
    "    print (e)"
   ]
  },
  {
   "cell_type": "markdown",
   "id": "4d39d060-027e-4ba7-85e2-99a9492aef7a",
   "metadata": {},
   "source": [
    "### Reset connection to the Desired DB"
   ]
  },
  {
   "cell_type": "code",
   "execution_count": null,
   "id": "c4b26887-f8a1-458f-b9e5-1c83355e95a6",
   "metadata": {},
   "outputs": [],
   "source": [
    "cursor.close()\n",
    "conn.close()\n",
    "try: \n",
    "    conn = psycopg2.connect(\n",
    "                        host=DB_ENDPOINT,\n",
    "                        port=DB_PORT,\n",
    "                        dbname=DB,\n",
    "                        user=DB_USER,\n",
    "                        password=DB_PASSWORD)\n",
    "    print(\"Connection established\")\n",
    "    conn.set_session(autocommit=True)\n",
    "    Print(\"Connection is in Auto Commit\")\n",
    "except psycopg2.Error as e: \n",
    "    print(f\"Error: Could not make connection to the {DB} database\")\n",
    "    print(e)\n",
    "    \n",
    "try: \n",
    "    cursor = conn.cursor()\n",
    "except psycopg2.Error as e: \n",
    "    print(\"Error: Could not get cursor to the Database\")\n",
    "    print(e)"
   ]
  },
  {
   "cell_type": "markdown",
   "id": "05f1b887-8921-4f97-bde2-5964a45c4a39",
   "metadata": {},
   "source": [
    "# Clean DATA , DROP unconstant Data, DROP Unused DATA"
   ]
  },
  {
   "cell_type": "code",
   "execution_count": null,
   "id": "98e34635-f40d-478d-9526-0ecb11e00535",
   "metadata": {},
   "outputs": [],
   "source": [
    "# Show numeric output in decimal format e.g., 2.15\n",
    "pd.options.display.float_format = '{:,.2f}'.format\n",
    "data_frame_riders = pd.read_csv('./data/riders.csv')\n",
    "data_frame_payments = pd.read_csv('./data/payments.csv')\n",
    "data_frame_stations = pd.read_csv('./data/stations.csv')\n",
    "data_frame_trips = pd.read_csv('./data/trips.csv')"
   ]
  },
  {
   "cell_type": "markdown",
   "id": "3d759921-7bbf-44d5-a2df-d262856e58ce",
   "metadata": {},
   "source": [
    "## Explore the Data & Check for Consistency"
   ]
  },
  {
   "cell_type": "markdown",
   "id": "7ca5b3fb-cc0c-4b4e-aabb-4ed7ce8dc88a",
   "metadata": {},
   "source": [
    "### Riders CSV "
   ]
  },
  {
   "cell_type": "code",
   "execution_count": null,
   "id": "1d089146-d47a-4d31-b375-08f78f59bb75",
   "metadata": {},
   "outputs": [],
   "source": [
    "print(data_frame_riders.shape)\n",
    "print(data_frame_riders.columns)\n",
    "print(data_frame_riders.sample())"
   ]
  },
  {
   "cell_type": "code",
   "execution_count": null,
   "id": "64b1c917-1e62-4fa9-8a59-d4446291f783",
   "metadata": {},
   "outputs": [],
   "source": [
    "print(f'Missing values for data set?: {data_frame_riders.isna().values.any()}')\n",
    "print(f'Missing values for data set?: {data_frame_riders.isna().values.sum()}')\n",
    "#data_frame_riders.dropna(inplace=True)\n",
    "print(f'Missing values for data set?: {data_frame_riders.isna().values.any()}')\n",
    "print(f'Missing values for data set?: {data_frame_riders.isna().values.sum()}')\n",
    "# Remove duplicates\n",
    "print(f'duplicates values for data set?: {data_frame_riders.duplicated().values.any()}')\n",
    "print(f'duplicates values for data set?: {data_frame_riders.duplicated().values.sum()}')\n",
    "print(data_frame_riders.duplicated)  "
   ]
  },
  {
   "cell_type": "markdown",
   "id": "12f58dc3-f51e-415e-8f15-dbf1935257fa",
   "metadata": {},
   "source": [
    "#### Check  data after cleanning"
   ]
  },
  {
   "cell_type": "code",
   "execution_count": null,
   "id": "8fd732ff-cb93-4790-8691-6d264d7e8c67",
   "metadata": {},
   "outputs": [],
   "source": [
    "print(data_frame_riders.shape)\n",
    "print(data_frame_riders.columns)\n",
    "print(data_frame_riders.sample())"
   ]
  },
  {
   "cell_type": "markdown",
   "id": "e3b68fff-5d23-412f-9f39-7dd04d448d0e",
   "metadata": {},
   "source": [
    "#### Change Columns type to the desired format"
   ]
  },
  {
   "cell_type": "code",
   "execution_count": null,
   "id": "35b992bf-c0c3-4104-a341-660b61d75fa5",
   "metadata": {},
   "outputs": [],
   "source": [
    "print(data_frame_riders.describe())\n",
    "print(data_frame_riders.info())"
   ]
  },
  {
   "cell_type": "code",
   "execution_count": null,
   "id": "9bcc3c8b-727a-44b9-aafe-c438442fade0",
   "metadata": {},
   "outputs": [],
   "source": [
    "# data_frame[\"itemInSession\"] = pd.to_numeric(data_frame[\"itemInSession\"])\n",
    "# data_frame[\"length\"] = pd.to_numeric(data_frame[\"length\"])\n",
    "# data_frame[\"sessionId\"] = pd.to_numeric(data_frame[\"sessionId\"])\n",
    "# data_frame[\"userId\"] = pd.to_numeric(data_frame[\"userId\"],downcast='integer' )"
   ]
  },
  {
   "cell_type": "markdown",
   "id": "64441bae-cdfa-4464-96c6-a2462f359e8f",
   "metadata": {},
   "source": [
    "#### See the new data types and if the data is ready"
   ]
  },
  {
   "cell_type": "code",
   "execution_count": null,
   "id": "d22e98e7-fc66-42d9-be5a-3ecbda442eee",
   "metadata": {},
   "outputs": [],
   "source": [
    "#print(data_frame.describe())\n",
    "#print(data_frame.info())"
   ]
  },
  {
   "cell_type": "markdown",
   "id": "2c4b12a0-a33e-49ac-b945-2a4d1fb1e99e",
   "metadata": {},
   "source": [
    "### Payments CSV "
   ]
  },
  {
   "cell_type": "code",
   "execution_count": null,
   "id": "a633d221-4831-438a-8e90-cd4e099dcaab",
   "metadata": {},
   "outputs": [],
   "source": [
    "print(data_frame_payments.shape)\n",
    "print(data_frame_payments.columns)\n",
    "print(data_frame_payments.sample())"
   ]
  },
  {
   "cell_type": "code",
   "execution_count": null,
   "id": "416f06a6-c6ab-4d03-be21-8e0e9aaacd1f",
   "metadata": {},
   "outputs": [],
   "source": [
    "print(f'Missing values for data set?: {data_frame_payments.isna().values.any()}')\n",
    "print(f'Missing values for data set?: {data_frame_payments.isna().values.sum()}')\n",
    "#data_frame_payments.dropna(inplace=True)\n",
    "print(f'Missing values for data set?: {data_frame_payments.isna().values.any()}')\n",
    "print(f'Missing values for data set?: {data_frame_payments.isna().values.sum()}')\n",
    "# Remove duplicates\n",
    "print(f'duplicates values for data set?: {data_frame_payments.duplicated().values.any()}')\n",
    "print(f'duplicates values for data set?: {data_frame_payments.duplicated().values.sum()}')\n",
    "print(data_frame_payments.duplicated)  "
   ]
  },
  {
   "cell_type": "markdown",
   "id": "75dfe272-efc7-4d10-95d4-ac80adbd7c8f",
   "metadata": {},
   "source": [
    "#### Check  data after cleanning"
   ]
  },
  {
   "cell_type": "code",
   "execution_count": null,
   "id": "6d9d554e-ccc3-405e-8702-b3ea5bad269c",
   "metadata": {},
   "outputs": [],
   "source": [
    "print(data_frame_payments.shape)\n",
    "print(data_frame_payments.columns)\n",
    "print(data_frame_payments.sample())"
   ]
  },
  {
   "cell_type": "markdown",
   "id": "ea8b92cd-b87f-4c5c-b8af-7a140a4f9158",
   "metadata": {},
   "source": [
    "#### Change Columns type to the desired format"
   ]
  },
  {
   "cell_type": "code",
   "execution_count": null,
   "id": "650cc116-41ac-4149-8d17-f7e52737a27d",
   "metadata": {},
   "outputs": [],
   "source": [
    "print(data_frame_payments.describe())\n",
    "print(data_frame_payments.info())"
   ]
  },
  {
   "cell_type": "markdown",
   "id": "6ba64d39-d90b-438c-8b8c-a6db3f047258",
   "metadata": {},
   "source": [
    "### Stations CSV "
   ]
  },
  {
   "cell_type": "code",
   "execution_count": null,
   "id": "f7428b44-1667-475e-935d-8c571443279e",
   "metadata": {},
   "outputs": [],
   "source": [
    "print(data_frame_stations.shape)\n",
    "print(data_frame_stations.columns)\n",
    "print(data_frame_stations.sample())"
   ]
  },
  {
   "cell_type": "code",
   "execution_count": null,
   "id": "7f81a905-f3f2-42dc-936e-61fcb3ea5526",
   "metadata": {},
   "outputs": [],
   "source": [
    "print(f'Missing values for data set?: {data_frame_stations.isna().values.any()}')\n",
    "print(f'Missing values for data set?: {data_frame_stations.isna().values.sum()}')\n",
    "#data_frame_stations.dropna(inplace=True)\n",
    "print(f'Missing values for data set?: {data_frame_stations.isna().values.any()}')\n",
    "print(f'Missing values for data set?: {data_frame_stations.isna().values.sum()}')\n",
    "# Remove duplicates\n",
    "print(f'duplicates values for data set?: {data_frame_stations.duplicated().values.any()}')\n",
    "print(f'duplicates values for data set?: {data_frame_stations.duplicated().values.sum()}')\n",
    "print(data_frame_stations.duplicated)  "
   ]
  },
  {
   "cell_type": "markdown",
   "id": "2880e432-fb85-44bd-976e-2c0e97118c57",
   "metadata": {},
   "source": [
    "#### Check  data after cleanning"
   ]
  },
  {
   "cell_type": "code",
   "execution_count": null,
   "id": "8c7dda9f-5a99-48d7-8532-9c2d0d76ddcf",
   "metadata": {},
   "outputs": [],
   "source": [
    "print(data_frame_stations.shape)\n",
    "print(data_frame_stations.columns)\n",
    "print(data_frame_stations.sample())"
   ]
  },
  {
   "cell_type": "markdown",
   "id": "6ca3df92-3003-4085-9866-4d879abb2909",
   "metadata": {},
   "source": [
    "#### Change Columns type to the desired format"
   ]
  },
  {
   "cell_type": "code",
   "execution_count": null,
   "id": "b4139357-8996-411a-84c5-48baafaf5f8a",
   "metadata": {},
   "outputs": [],
   "source": [
    "print(data_frame_stations.describe())\n",
    "print(data_frame_stations.info())"
   ]
  },
  {
   "cell_type": "markdown",
   "id": "8e1a9c8d-2c2d-4900-9af7-1265d55005a7",
   "metadata": {},
   "source": [
    "### Trips CSV "
   ]
  },
  {
   "cell_type": "code",
   "execution_count": null,
   "id": "18179db8-e054-4974-8c9d-72990b66af89",
   "metadata": {},
   "outputs": [],
   "source": [
    "print(data_frame_trips.shape)\n",
    "print(data_frame_trips.columns)\n",
    "print(data_frame_trips.sample())"
   ]
  },
  {
   "cell_type": "code",
   "execution_count": null,
   "id": "e66be181-4b9b-439a-8e45-0c4f801d0d67",
   "metadata": {},
   "outputs": [],
   "source": [
    "print(f'Missing values for data set?: {data_frame_trips.isna().values.any()}')\n",
    "print(f'Missing values for data set?: {data_frame_trips.isna().values.sum()}')\n",
    "#data_frame_trips.dropna(inplace=True)\n",
    "print(f'Missing values for data set?: {data_frame_trips.isna().values.any()}')\n",
    "print(f'Missing values for data set?: {data_frame_trips.isna().values.sum()}')\n",
    "# Remove duplicates\n",
    "print(f'duplicates values for data set?: {data_frame_trips.duplicated().values.any()}')\n",
    "print(f'duplicates values for data set?: {data_frame_trips.duplicated().values.sum()}')\n",
    "print(data_frame_trips.duplicated)  "
   ]
  },
  {
   "cell_type": "markdown",
   "id": "f77e372e-a9a8-4a0f-89b2-b12afadc298a",
   "metadata": {},
   "source": [
    "#### Check  data after cleanning"
   ]
  },
  {
   "cell_type": "code",
   "execution_count": null,
   "id": "16616431-72ae-43e6-89f1-54d5a5263923",
   "metadata": {},
   "outputs": [],
   "source": [
    "print(data_frame_trips.shape)\n",
    "print(data_frame_trips.columns)\n",
    "print(data_frame_trips.sample())"
   ]
  },
  {
   "cell_type": "markdown",
   "id": "49ce5f63-dddf-4db3-8fcd-fd5042cc0724",
   "metadata": {},
   "source": [
    "#### Change Columns type to the desired format"
   ]
  },
  {
   "cell_type": "code",
   "execution_count": null,
   "id": "b5dfaa27-ad93-437c-8933-4530a116c086",
   "metadata": {},
   "outputs": [],
   "source": [
    "print(data_frame_trips.describe())\n",
    "print(data_frame_trips.info())"
   ]
  },
  {
   "cell_type": "markdown",
   "id": "f680a73d-4791-416b-b423-57512d1b92d7",
   "metadata": {
    "tags": []
   },
   "source": [
    "# Populating Cleaned Data "
   ]
  },
  {
   "cell_type": "markdown",
   "id": "33ecf976-6b1b-490d-8fa6-9ff67df7db2e",
   "metadata": {
    "jp-MarkdownHeadingCollapsed": true,
    "tags": []
   },
   "source": [
    "## Automation Functions"
   ]
  },
  {
   "cell_type": "code",
   "execution_count": null,
   "id": "388a63d2-2878-4172-8561-1b042c55bf25",
   "metadata": {},
   "outputs": [],
   "source": [
    "# Helper functions\n",
    "def table_recreate(cursor, tableName: str, tableFields: str ):\n",
    "     \"\"\" Takes the Connection , Table name and create Fields, will drop the table if exists and create it again with the desired fields Ex : table_recreate(cursor, payments,\n",
    "                    \"(sessionId INT,\n",
    "                    itemInSession INT,\n",
    "                    artist TEXT,\n",
    "                    song TEXT,\n",
    "                    length FLOAT, \n",
    "                    PRIMARY KEY (sessionId, itemInSession))\")  \"\"\"\n",
    "    try:\n",
    "        \n",
    "        cursor.execute(\"DROP TABLE IF EXISTS {0};\".format(tableName))\n",
    "        query = f\"CREATE TABLE {tableName} \"\n",
    "        query = query + tableFields\n",
    "        cursor.execute(query)\n",
    "        print(\"Finished creating table {0}\".format(tableName))\n",
    "    except psycopg2.Error as e: \n",
    "    print(f\"Error: Couldn't recreate the table: {tableName}, something went wrong\")\n",
    "    print(e)"
   ]
  },
  {
   "cell_type": "markdown",
   "id": "4e75252d-173f-46f5-ac23-f16d409d1f31",
   "metadata": {
    "tags": []
   },
   "source": [
    "## Create Tables & Insert data"
   ]
  },
  {
   "cell_type": "markdown",
   "id": "aafde983-699c-4fbc-b219-c9f9313672f4",
   "metadata": {},
   "source": [
    "### Riders Table "
   ]
  },
  {
   "cell_type": "markdown",
   "id": "c0a681e0-6963-45df-804e-6416959dc9fc",
   "metadata": {
    "tags": []
   },
   "source": [
    "#### Create"
   ]
  },
  {
   "cell_type": "code",
   "execution_count": null,
   "id": "6b5f7e4f-e8e1-40b3-bb21-99101d50a4fc",
   "metadata": {},
   "outputs": [],
   "source": [
    "TABLE = \"riders\"\n",
    "FIELDS = \"\"\"(rider_id INTEGER PRIMARY KEY,\n",
    "                    first VARCHAR(50),\n",
    "                    last VARCHAR(50), \n",
    "                    address VARCHAR(100), \n",
    "                    birthday DATE, \n",
    "                    account_start_date DATE, \n",
    "                    account_end_date DATE, \n",
    "                    is_member BOOLEAN);\"\"\"\n",
    "table_recreate(cursor = cursor, tableName = TABLE, tableFields = FIELDS )"
   ]
  },
  {
   "cell_type": "markdown",
   "id": "e2d3f9d4-a661-4b34-886d-6fca714bba70",
   "metadata": {},
   "source": [
    "#### Populate"
   ]
  },
  {
   "cell_type": "code",
   "execution_count": null,
   "id": "f3c45e9c-fcfe-4811-bbe3-0b2908bdd624",
   "metadata": {},
   "outputs": [],
   "source": [
    "for index, row in data_frame_riders.iterrows():   \n",
    "    query = \"INSERT INTO riders (rider_id, first, last, address, birthday, account_start_date, account_end_date, is_member)\"\n",
    "    query = query + \"VALUES (%s, %s, %s, %s, %s)\"\n",
    "    try:\n",
    "        session.execute(query, (row[\"rider_id\"], row[\"first\"], row[\"last\"], row[\"birthday\"], row[\"account_start_date\"], row[\"account_end_date\"], row[\"is_member\"]))\n",
    "    except Exception as e:\n",
    "        print(e)\n",
    "Print(\"Finished Populating \")"
   ]
  },
  {
   "cell_type": "markdown",
   "id": "3cab8584-7160-470f-8fd2-8d4cac015e34",
   "metadata": {},
   "source": [
    "### Payments Table "
   ]
  },
  {
   "cell_type": "markdown",
   "id": "819ab891-1d8c-4555-a52c-679c3a0926f4",
   "metadata": {
    "tags": []
   },
   "source": [
    "#### Create"
   ]
  },
  {
   "cell_type": "code",
   "execution_count": null,
   "id": "a1453b9c-7a1f-4df1-9421-f59f90a08396",
   "metadata": {},
   "outputs": [],
   "source": [
    "TABLE = \"payment\"\n",
    "FIELDS = \"\"\"(payment_id INTEGER PRIMARY KEY, \n",
    "                    date DATE, \n",
    "                    amount MONEY, \n",
    "                    rider_id INTEGER, );\"\"\"\n",
    "table_recreate(cursor = cursor, tableName = TABLE, tableFields = FIELDS )"
   ]
  },
  {
   "cell_type": "markdown",
   "id": "5f6c62d5-0906-40f0-a05e-42d3be516796",
   "metadata": {},
   "source": [
    "#### Populate"
   ]
  },
  {
   "cell_type": "code",
   "execution_count": null,
   "id": "988a841c-38e3-4bf0-a373-1cbdf65402b8",
   "metadata": {},
   "outputs": [],
   "source": []
  },
  {
   "cell_type": "markdown",
   "id": "42311500-c473-4101-a94f-f328903555de",
   "metadata": {},
   "source": [
    "### Stations Table "
   ]
  },
  {
   "cell_type": "markdown",
   "id": "c45eae80-d118-4765-a97d-0ff495caf121",
   "metadata": {
    "tags": []
   },
   "source": [
    "#### Create"
   ]
  },
  {
   "cell_type": "code",
   "execution_count": null,
   "id": "7938e723-866d-4a44-99e1-696de1ef2181",
   "metadata": {},
   "outputs": [],
   "source": [
    "TABLE = \"station\"\n",
    "FIELDS = \"\"\"(station_id VARCHAR(50) PRIMARY KEY, \n",
    "                    name VARCHAR(75), \n",
    "                    latitude FLOAT, \n",
    "                    longitude FLOAT, );\"\"\"\n",
    "table_recreate(cursor = cursor, tableName = TABLE, tableFields = FIELDS )"
   ]
  },
  {
   "cell_type": "markdown",
   "id": "5928c0c7-bf09-4193-87d1-33162b73048f",
   "metadata": {},
   "source": [
    "#### Populate"
   ]
  },
  {
   "cell_type": "code",
   "execution_count": null,
   "id": "bcd3b055-9b68-4223-8fed-0a64f14e8601",
   "metadata": {},
   "outputs": [],
   "source": []
  },
  {
   "cell_type": "markdown",
   "id": "bcef00c2-c7b9-4328-9005-595a036f3d20",
   "metadata": {},
   "source": [
    "### Trips Table "
   ]
  },
  {
   "cell_type": "markdown",
   "id": "4cdcfe92-2614-4e77-b7f3-cc6cf4ffa509",
   "metadata": {
    "tags": []
   },
   "source": [
    "#### Create"
   ]
  },
  {
   "cell_type": "code",
   "execution_count": null,
   "id": "cfc337f6-89a1-4f49-b0ec-f4c862ce7d2b",
   "metadata": {
    "tags": []
   },
   "outputs": [],
   "source": [
    "TABLE = \"trip\"\n",
    "FIELDS = \"\"\"(trip_id VARCHAR(50) PRIMARY KEY, \n",
    "                    rideable_type VARCHAR(75), \n",
    "                    start_at TIMESTAMP, \n",
    "                    ended_at TIMESTAMP,\n",
    "                    start_station_id VARCHAR(50),\n",
    "                    end_station_id VARCHAR(50),\n",
    "                    rider_id INTEGER, );\"\"\"\n",
    "table_recreate(cursor = cursor, tableName = TABLE, tableFields = FIELDS )"
   ]
  },
  {
   "cell_type": "markdown",
   "id": "b7301424-8145-4645-8fa9-7e8ab4b13ddb",
   "metadata": {},
   "source": [
    "#### Populate"
   ]
  },
  {
   "cell_type": "code",
   "execution_count": null,
   "id": "c2d75c2b-69f3-4e56-875c-8b85a77b75b9",
   "metadata": {},
   "outputs": [],
   "source": []
  }
 ],
 "metadata": {
  "kernelspec": {
   "display_name": "Python 3 (ipykernel)",
   "language": "python",
   "name": "python3"
  },
  "language_info": {
   "codemirror_mode": {
    "name": "ipython",
    "version": 3
   },
   "file_extension": ".py",
   "mimetype": "text/x-python",
   "name": "python",
   "nbconvert_exporter": "python",
   "pygments_lexer": "ipython3",
   "version": "3.10.5"
  }
 },
 "nbformat": 4,
 "nbformat_minor": 5
}
